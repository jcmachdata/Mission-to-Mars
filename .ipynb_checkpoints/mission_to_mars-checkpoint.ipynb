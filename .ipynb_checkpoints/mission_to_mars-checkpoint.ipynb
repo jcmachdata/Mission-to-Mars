{
 "cells": [
  {
   "cell_type": "code",
   "execution_count": 39,
   "metadata": {},
   "outputs": [],
   "source": [
    "#dependencies\n",
    "from bs4 import BeautifulSoup as bs\n",
    "import requests\n",
    "from splinter import Browser\n",
    "import time"
   ]
  },
  {
   "cell_type": "code",
   "execution_count": 36,
   "metadata": {},
   "outputs": [],
   "source": [
    "#configure splinter\n",
    "executable_path = {'executable_path': 'C:/Users/chamb/Documents/chromedriver.exe'}\n",
    "browser = Browser('chrome', **executable_path, headless=False)"
   ]
  },
  {
   "cell_type": "code",
   "execution_count": 30,
   "metadata": {},
   "outputs": [],
   "source": [
    "#define url to be scraped\n",
    "url = 'https://mars.nasa.gov/news/'\n",
    "browser.visit(url)\n",
    "\n",
    "# Create BeautifulSoup object; parse with 'html'\n",
    "html = browser.html\n",
    "soup = bs(html, 'html.parser')"
   ]
  },
  {
   "cell_type": "code",
   "execution_count": 31,
   "metadata": {},
   "outputs": [
    {
     "name": "stdout",
     "output_type": "stream",
     "text": [
      "\n",
      "NASA Announces Landing Site for Mars 2020 Rover\n",
      "\n"
     ]
    }
   ],
   "source": [
    "#find latest article title\n",
    "news_title = soup.find('div', class_=\"content_title\").text\n",
    "print(title)"
   ]
  },
  {
   "cell_type": "code",
   "execution_count": 33,
   "metadata": {},
   "outputs": [
    {
     "name": "stdout",
     "output_type": "stream",
     "text": [
      "\n",
      "After a five-year search, NASA has chosen Jezero Crater as the landing site for its upcoming Mars 2020 rover mission.\n",
      "\n"
     ]
    }
   ],
   "source": [
    "#find latest paragraph\n",
    "news_p = soup.find('div', class_=\"rollover_description_inner\").text\n",
    "print(news_p)"
   ]
  },
  {
   "cell_type": "code",
   "execution_count": 52,
   "metadata": {},
   "outputs": [],
   "source": [
    "#get JPL featured image\n",
    "#executable_path = {'executable_path': 'C:/Users/chamb/Documents/chromedriver.exe'}\n",
    "#browser = Browser('chrome', **executable_path, headless=False)\n",
    "url_jpl = 'https://www.jpl.nasa.gov/spaceimages/?search=&category=Mars'\n",
    "browser.visit(url_jpl)"
   ]
  },
  {
   "cell_type": "code",
   "execution_count": 49,
   "metadata": {},
   "outputs": [
    {
     "name": "stdout",
     "output_type": "stream",
     "text": [
      "https://photojournal.jpl.nasa.gov/jpeg/PIA14762.jpg\n"
     ]
    }
   ],
   "source": [
    "#access full image size\n",
    "browser.click_link_by_partial_text('FULL IMAGE')\n",
    "time.sleep(2)\n",
    "browser.click_link_by_partial_text('more info')\n",
    "time.sleep(2)\n",
    "browser.click_link_by_partial_text('.jpg')\n",
    "\n",
    "html = browser.html\n",
    "soup = bs(html, 'html.parser')\n",
    "\n",
    "featured_img_url = soup.find('img').get('src')\n",
    "print(featured_img_url)"
   ]
  },
  {
   "cell_type": "code",
   "execution_count": 53,
   "metadata": {},
   "outputs": [],
   "source": [
    "#retrieve Mars weather from twitter account\n",
    "url_weather = \"https://twitter.com/marswxreport?lang=en\"\n",
    "browser.visit(url_weather)"
   ]
  },
  {
   "cell_type": "code",
   "execution_count": 54,
   "metadata": {},
   "outputs": [],
   "source": [
    "html_weather = browser.html\n",
    "soup = bs(html_weather, \"html.parser\")"
   ]
  },
  {
   "cell_type": "code",
   "execution_count": 56,
   "metadata": {},
   "outputs": [
    {
     "name": "stdout",
     "output_type": "stream",
     "text": [
      "InSight sol 130 (2019-04-08) low -98.0ºC (-144.4ºF) high -15.5ºC (4.1ºF)\n",
      "winds from the SW at 4.1 m/s (9.3 mph) gusting to 11.7 m/s (26.2 mph)\n",
      "pressure at 7.30 hPapic.twitter.com/awJfx8w2YE\n"
     ]
    }
   ],
   "source": [
    "#get latest tweets\n",
    "tweets = soup.find_all('div', class_='js-tweet-text-container')\n",
    "\n",
    "#only get latest tweet that mentions weather-related items\n",
    "for tweet in tweets: \n",
    "    weather_tweet = tweet.find('p').text\n",
    "    if 'Sol' and 'winds' and 'pressure' in weather_tweet:\n",
    "        print(weather_tweet)\n",
    "        break\n",
    "    else: \n",
    "        pass"
   ]
  },
  {
   "cell_type": "code",
   "execution_count": null,
   "metadata": {},
   "outputs": [],
   "source": []
  }
 ],
 "metadata": {
  "kernelspec": {
   "display_name": "Python [conda env:PythonData]",
   "language": "python",
   "name": "pythondata"
  },
  "language_info": {
   "codemirror_mode": {
    "name": "ipython",
    "version": 3
   },
   "file_extension": ".py",
   "mimetype": "text/x-python",
   "name": "python",
   "nbconvert_exporter": "python",
   "pygments_lexer": "ipython3",
   "version": "3.7.2"
  }
 },
 "nbformat": 4,
 "nbformat_minor": 2
}
